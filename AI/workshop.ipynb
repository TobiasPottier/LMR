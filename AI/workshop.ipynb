{
 "cells": [
  {
   "cell_type": "markdown",
   "metadata": {},
   "source": [
    "**DATA PREVIEW**"
   ]
  },
  {
   "cell_type": "code",
   "execution_count": 2,
   "metadata": {},
   "outputs": [
    {
     "name": "stdout",
     "output_type": "stream",
     "text": [
      "Ratings:\n"
     ]
    },
    {
     "data": {
      "text/html": [
       "<div>\n",
       "<style scoped>\n",
       "    .dataframe tbody tr th:only-of-type {\n",
       "        vertical-align: middle;\n",
       "    }\n",
       "\n",
       "    .dataframe tbody tr th {\n",
       "        vertical-align: top;\n",
       "    }\n",
       "\n",
       "    .dataframe thead th {\n",
       "        text-align: right;\n",
       "    }\n",
       "</style>\n",
       "<table border=\"1\" class=\"dataframe\">\n",
       "  <thead>\n",
       "    <tr style=\"text-align: right;\">\n",
       "      <th></th>\n",
       "      <th>userId</th>\n",
       "      <th>movieId</th>\n",
       "      <th>rating</th>\n",
       "      <th>timestamp</th>\n",
       "    </tr>\n",
       "  </thead>\n",
       "  <tbody>\n",
       "    <tr>\n",
       "      <th>0</th>\n",
       "      <td>1</td>\n",
       "      <td>2</td>\n",
       "      <td>3.5</td>\n",
       "      <td>2005-04-02 23:53:47</td>\n",
       "    </tr>\n",
       "    <tr>\n",
       "      <th>1</th>\n",
       "      <td>1</td>\n",
       "      <td>29</td>\n",
       "      <td>3.5</td>\n",
       "      <td>2005-04-02 23:31:16</td>\n",
       "    </tr>\n",
       "    <tr>\n",
       "      <th>2</th>\n",
       "      <td>1</td>\n",
       "      <td>32</td>\n",
       "      <td>3.5</td>\n",
       "      <td>2005-04-02 23:33:39</td>\n",
       "    </tr>\n",
       "    <tr>\n",
       "      <th>3</th>\n",
       "      <td>1</td>\n",
       "      <td>47</td>\n",
       "      <td>3.5</td>\n",
       "      <td>2005-04-02 23:32:07</td>\n",
       "    </tr>\n",
       "    <tr>\n",
       "      <th>4</th>\n",
       "      <td>1</td>\n",
       "      <td>50</td>\n",
       "      <td>3.5</td>\n",
       "      <td>2005-04-02 23:29:40</td>\n",
       "    </tr>\n",
       "  </tbody>\n",
       "</table>\n",
       "</div>"
      ],
      "text/plain": [
       "   userId  movieId  rating            timestamp\n",
       "0       1        2     3.5  2005-04-02 23:53:47\n",
       "1       1       29     3.5  2005-04-02 23:31:16\n",
       "2       1       32     3.5  2005-04-02 23:33:39\n",
       "3       1       47     3.5  2005-04-02 23:32:07\n",
       "4       1       50     3.5  2005-04-02 23:29:40"
      ]
     },
     "execution_count": 2,
     "metadata": {},
     "output_type": "execute_result"
    }
   ],
   "source": [
    "# Import necessary libraries\n",
    "import pandas as pd\n",
    "import numpy as np\n",
    "\n",
    "# Load the CSV files (adjust paths as necessary)\n",
    "ratings = pd.read_csv('./data/rating.csv')     # Contains: userId, movieId, rating, timestamp\n",
    "movies = pd.read_csv('./data/movie.csv')       # Contains: movieId, title, genres\n",
    "links = pd.read_csv('./data/link.csv')         # Contains: movieId, imdbId, tmdbId\n",
    "\n",
    "# Display the first few rows of each DataFrame to confirm they loaded correctly\n",
    "print(\"Ratings:\")\n",
    "ratings.head()"
   ]
  },
  {
   "cell_type": "code",
   "execution_count": 3,
   "metadata": {},
   "outputs": [
    {
     "name": "stdout",
     "output_type": "stream",
     "text": [
      "\n",
      "Movies:\n"
     ]
    },
    {
     "data": {
      "text/html": [
       "<div>\n",
       "<style scoped>\n",
       "    .dataframe tbody tr th:only-of-type {\n",
       "        vertical-align: middle;\n",
       "    }\n",
       "\n",
       "    .dataframe tbody tr th {\n",
       "        vertical-align: top;\n",
       "    }\n",
       "\n",
       "    .dataframe thead th {\n",
       "        text-align: right;\n",
       "    }\n",
       "</style>\n",
       "<table border=\"1\" class=\"dataframe\">\n",
       "  <thead>\n",
       "    <tr style=\"text-align: right;\">\n",
       "      <th></th>\n",
       "      <th>movieId</th>\n",
       "      <th>title</th>\n",
       "      <th>genres</th>\n",
       "    </tr>\n",
       "  </thead>\n",
       "  <tbody>\n",
       "    <tr>\n",
       "      <th>0</th>\n",
       "      <td>1</td>\n",
       "      <td>Toy Story (1995)</td>\n",
       "      <td>Adventure|Animation|Children|Comedy|Fantasy</td>\n",
       "    </tr>\n",
       "    <tr>\n",
       "      <th>1</th>\n",
       "      <td>2</td>\n",
       "      <td>Jumanji (1995)</td>\n",
       "      <td>Adventure|Children|Fantasy</td>\n",
       "    </tr>\n",
       "    <tr>\n",
       "      <th>2</th>\n",
       "      <td>3</td>\n",
       "      <td>Grumpier Old Men (1995)</td>\n",
       "      <td>Comedy|Romance</td>\n",
       "    </tr>\n",
       "    <tr>\n",
       "      <th>3</th>\n",
       "      <td>4</td>\n",
       "      <td>Waiting to Exhale (1995)</td>\n",
       "      <td>Comedy|Drama|Romance</td>\n",
       "    </tr>\n",
       "    <tr>\n",
       "      <th>4</th>\n",
       "      <td>5</td>\n",
       "      <td>Father of the Bride Part II (1995)</td>\n",
       "      <td>Comedy</td>\n",
       "    </tr>\n",
       "  </tbody>\n",
       "</table>\n",
       "</div>"
      ],
      "text/plain": [
       "   movieId                               title  \\\n",
       "0        1                    Toy Story (1995)   \n",
       "1        2                      Jumanji (1995)   \n",
       "2        3             Grumpier Old Men (1995)   \n",
       "3        4            Waiting to Exhale (1995)   \n",
       "4        5  Father of the Bride Part II (1995)   \n",
       "\n",
       "                                        genres  \n",
       "0  Adventure|Animation|Children|Comedy|Fantasy  \n",
       "1                   Adventure|Children|Fantasy  \n",
       "2                               Comedy|Romance  \n",
       "3                         Comedy|Drama|Romance  \n",
       "4                                       Comedy  "
      ]
     },
     "execution_count": 3,
     "metadata": {},
     "output_type": "execute_result"
    }
   ],
   "source": [
    "print(\"\\nMovies:\")\n",
    "movies.head()"
   ]
  },
  {
   "cell_type": "code",
   "execution_count": 4,
   "metadata": {},
   "outputs": [
    {
     "name": "stdout",
     "output_type": "stream",
     "text": [
      "\n",
      "Links:\n"
     ]
    },
    {
     "data": {
      "text/html": [
       "<div>\n",
       "<style scoped>\n",
       "    .dataframe tbody tr th:only-of-type {\n",
       "        vertical-align: middle;\n",
       "    }\n",
       "\n",
       "    .dataframe tbody tr th {\n",
       "        vertical-align: top;\n",
       "    }\n",
       "\n",
       "    .dataframe thead th {\n",
       "        text-align: right;\n",
       "    }\n",
       "</style>\n",
       "<table border=\"1\" class=\"dataframe\">\n",
       "  <thead>\n",
       "    <tr style=\"text-align: right;\">\n",
       "      <th></th>\n",
       "      <th>movieId</th>\n",
       "      <th>imdbId</th>\n",
       "      <th>tmdbId</th>\n",
       "    </tr>\n",
       "  </thead>\n",
       "  <tbody>\n",
       "    <tr>\n",
       "      <th>0</th>\n",
       "      <td>1</td>\n",
       "      <td>114709</td>\n",
       "      <td>862.0</td>\n",
       "    </tr>\n",
       "    <tr>\n",
       "      <th>1</th>\n",
       "      <td>2</td>\n",
       "      <td>113497</td>\n",
       "      <td>8844.0</td>\n",
       "    </tr>\n",
       "    <tr>\n",
       "      <th>2</th>\n",
       "      <td>3</td>\n",
       "      <td>113228</td>\n",
       "      <td>15602.0</td>\n",
       "    </tr>\n",
       "    <tr>\n",
       "      <th>3</th>\n",
       "      <td>4</td>\n",
       "      <td>114885</td>\n",
       "      <td>31357.0</td>\n",
       "    </tr>\n",
       "    <tr>\n",
       "      <th>4</th>\n",
       "      <td>5</td>\n",
       "      <td>113041</td>\n",
       "      <td>11862.0</td>\n",
       "    </tr>\n",
       "  </tbody>\n",
       "</table>\n",
       "</div>"
      ],
      "text/plain": [
       "   movieId  imdbId   tmdbId\n",
       "0        1  114709    862.0\n",
       "1        2  113497   8844.0\n",
       "2        3  113228  15602.0\n",
       "3        4  114885  31357.0\n",
       "4        5  113041  11862.0"
      ]
     },
     "execution_count": 4,
     "metadata": {},
     "output_type": "execute_result"
    }
   ],
   "source": [
    "print(\"\\nLinks:\")\n",
    "links.head()"
   ]
  },
  {
   "cell_type": "code",
   "execution_count": 5,
   "metadata": {},
   "outputs": [
    {
     "name": "stdout",
     "output_type": "stream",
     "text": [
      "Movies with TMDB IDs:\n",
      "   movieId                               title  \\\n",
      "0        1                    Toy Story (1995)   \n",
      "1        2                      Jumanji (1995)   \n",
      "2        3             Grumpier Old Men (1995)   \n",
      "3        4            Waiting to Exhale (1995)   \n",
      "4        5  Father of the Bride Part II (1995)   \n",
      "\n",
      "                                        genres  imdbId   tmdbId  \n",
      "0  Adventure|Animation|Children|Comedy|Fantasy  114709    862.0  \n",
      "1                   Adventure|Children|Fantasy  113497   8844.0  \n",
      "2                               Comedy|Romance  113228  15602.0  \n",
      "3                         Comedy|Drama|Romance  114885  31357.0  \n",
      "4                                       Comedy  113041  11862.0  \n",
      "Combined Data:\n",
      "   userId  movieId  rating            timestamp  tmdbId  \\\n",
      "0       1        2     3.5  2005-04-02 23:53:47    8844   \n",
      "1       1       29     3.5  2005-04-02 23:31:16     902   \n",
      "2       1       32     3.5  2005-04-02 23:33:39      63   \n",
      "3       1       47     3.5  2005-04-02 23:32:07     807   \n",
      "4       1       50     3.5  2005-04-02 23:29:40     629   \n",
      "\n",
      "                                               title  \n",
      "0                                     Jumanji (1995)  \n",
      "1  City of Lost Children, The (Cité des enfants p...  \n",
      "2          Twelve Monkeys (a.k.a. 12 Monkeys) (1995)  \n",
      "3                        Seven (a.k.a. Se7en) (1995)  \n",
      "4                         Usual Suspects, The (1995)  \n"
     ]
    }
   ],
   "source": [
    "# Merge movies and links on movieId\n",
    "movies_links = pd.merge(movies, links, on='movieId', how='left')\n",
    "\n",
    "# Check the merged DataFrame\n",
    "print(\"Movies with TMDB IDs:\")\n",
    "print(movies_links.head())\n",
    "\n",
    "# Merge the ratings with movies_links on movieId\n",
    "data = pd.merge(ratings, movies_links[['movieId', 'tmdbId', 'title']], on='movieId', how='left')\n",
    "\n",
    "# Optionally, drop rows with missing tmdbId values (if any)\n",
    "data = data.dropna(subset=['tmdbId'])\n",
    "\n",
    "# Convert tmdbId to integer if necessary\n",
    "data['tmdbId'] = data['tmdbId'].astype(int)\n",
    "\n",
    "# Display the combined data\n",
    "print(\"Combined Data:\")\n",
    "print(data.head())"
   ]
  },
  {
   "cell_type": "markdown",
   "metadata": {},
   "source": [
    "**DATA PREPROCESSING**"
   ]
  },
  {
   "cell_type": "code",
   "execution_count": 6,
   "metadata": {},
   "outputs": [
    {
     "name": "stdout",
     "output_type": "stream",
     "text": [
      "Movies with TMDB IDs:\n",
      "   movieId                               title  \\\n",
      "0        1                    Toy Story (1995)   \n",
      "1        2                      Jumanji (1995)   \n",
      "2        3             Grumpier Old Men (1995)   \n",
      "3        4            Waiting to Exhale (1995)   \n",
      "4        5  Father of the Bride Part II (1995)   \n",
      "\n",
      "                                        genres  imdbId   tmdbId  \n",
      "0  Adventure|Animation|Children|Comedy|Fantasy  114709    862.0  \n",
      "1                   Adventure|Children|Fantasy  113497   8844.0  \n",
      "2                               Comedy|Romance  113228  15602.0  \n",
      "3                         Comedy|Drama|Romance  114885  31357.0  \n",
      "4                                       Comedy  113041  11862.0  \n",
      "Combined Data:\n",
      "   userId  tmdbId  rating                                              title\n",
      "0       1    8844     3.5                                     Jumanji (1995)\n",
      "1       1     902     3.5  City of Lost Children, The (Cité des enfants p...\n",
      "2       1      63     3.5          Twelve Monkeys (a.k.a. 12 Monkeys) (1995)\n",
      "3       1     807     3.5                        Seven (a.k.a. Se7en) (1995)\n",
      "4       1     629     3.5                         Usual Suspects, The (1995)\n"
     ]
    }
   ],
   "source": [
    "# Merge movies and links on movieId\n",
    "movies_links = pd.merge(movies, links, on='movieId', how='left')\n",
    "\n",
    "# Check the merged DataFrame\n",
    "print(\"Movies with TMDB IDs:\")\n",
    "print(movies_links.head())\n",
    "\n",
    "# Merge the ratings with movies_links on movieId\n",
    "data = pd.merge(ratings, movies_links[['movieId', 'tmdbId', 'title']], on='movieId', how='left')\n",
    "\n",
    "# Optionally, drop rows with missing tmdbId values (if any)\n",
    "data = data.dropna(subset=['tmdbId'])\n",
    "\n",
    "# Convert tmdbId to integer if necessary\n",
    "data['tmdbId'] = data['tmdbId'].astype(int)\n",
    "\n",
    "# Drop unneeded columns: movieId and timestamp\n",
    "data = data[['userId', 'tmdbId', 'rating', 'title']]\n",
    "\n",
    "# Display the combined data\n",
    "print(\"Combined Data:\")\n",
    "print(data.head())"
   ]
  },
  {
   "cell_type": "code",
   "execution_count": 7,
   "metadata": {},
   "outputs": [
    {
     "name": "stdout",
     "output_type": "stream",
     "text": [
      "Data prepared for the recommendation model.\n"
     ]
    }
   ],
   "source": [
    "from surprise import Dataset, Reader\n",
    "\n",
    "# Define the rating scale; adjust if necessary (e.g., 0.5 to 5)\n",
    "reader = Reader(rating_scale=(data['rating'].min(), data['rating'].max()))\n",
    "\n",
    "# Create a Surprise dataset from the DataFrame\n",
    "surprise_data = Dataset.load_from_df(data[['userId', 'tmdbId', 'rating']], reader)\n",
    "\n",
    "# Verify the dataset\n",
    "print(\"Data prepared for the recommendation model.\")"
   ]
  },
  {
   "cell_type": "markdown",
   "metadata": {},
   "source": [
    "**AI Model Training**"
   ]
  },
  {
   "cell_type": "code",
   "execution_count": 8,
   "metadata": {},
   "outputs": [
    {
     "name": "stdout",
     "output_type": "stream",
     "text": [
      "RMSE: 0.7867\n",
      "Test RMSE: 0.7867056513104431\n"
     ]
    }
   ],
   "source": [
    "from surprise.model_selection import train_test_split\n",
    "from surprise import SVD, accuracy\n",
    "\n",
    "# Split data into training and test sets (80% training, 20% testing)\n",
    "trainset, testset = train_test_split(surprise_data, test_size=0.2, random_state=42)\n",
    "\n",
    "# Create and train an SVD model\n",
    "model = SVD()\n",
    "model.fit(trainset)\n",
    "\n",
    "# Evaluate the model on the test set\n",
    "predictions = model.test(testset)\n",
    "rmse = accuracy.rmse(predictions)\n",
    "print(\"Test RMSE:\", rmse)"
   ]
  },
  {
   "cell_type": "code",
   "execution_count": 9,
   "metadata": {},
   "outputs": [],
   "source": [
    "import pickle\n",
    "\n",
    "# Save the model to a file\n",
    "with open('svd_model.pkl', 'wb') as f:\n",
    "    pickle.dump(model, f)"
   ]
  },
  {
   "cell_type": "code",
   "execution_count": 10,
   "metadata": {},
   "outputs": [],
   "source": [
    "with open('svd_model.pkl', 'rb') as f:\n",
    "    loaded_model = pickle.load(f)"
   ]
  },
  {
   "cell_type": "code",
   "execution_count": 11,
   "metadata": {},
   "outputs": [
    {
     "name": "stdout",
     "output_type": "stream",
     "text": [
      "Top 10 Recommendations for User 1:\n",
      "TMDB ID: 119324.0, Title: Prime Suspect (1991), Predicted Rating: 4.49\n",
      "TMDB ID: 241620.0, Title: Louis Theroux: Law & Disorder (2008), Predicted Rating: 4.49\n",
      "TMDB ID: 13930.0, Title: For the Birds (2000), Predicted Rating: 4.46\n",
      "TMDB ID: 11362.0, Title: The Count of Monte Cristo (2002), Predicted Rating: 4.45\n",
      "TMDB ID: 16320.0, Title: Serenity (2005), Predicted Rating: 4.44\n",
      "TMDB ID: 199.0, Title: Star Trek: First Contact (1996), Predicted Rating: 4.43\n",
      "TMDB ID: 34576.0, Title: Most Dangerous Man in America: Daniel Ellsberg and the Pentagon Papers, The (2009), Predicted Rating: 4.41\n",
      "TMDB ID: 13976.0, Title: Dylan Moran: Monster (2004), Predicted Rating: 4.39\n",
      "TMDB ID: 129.0, Title: Spirited Away (Sen to Chihiro no kamikakushi) (2001), Predicted Rating: 4.39\n",
      "TMDB ID: 55192.0, Title: Tokyo Twilight (Tôkyô boshoku) (1957), Predicted Rating: 4.38\n"
     ]
    }
   ],
   "source": [
    "def get_recommendations(user_id, model, ratings_df, movies_df, n=10):\n",
    "    # Get all movie IDs from the movies DataFrame\n",
    "    all_movie_ids = movies_df['tmdbId'].unique()\n",
    "    \n",
    "    # Find movie IDs that the user has already rated\n",
    "    rated_movie_ids = ratings_df[ratings_df['userId'] == user_id]['tmdbId'].unique()\n",
    "    \n",
    "    # Movies not yet rated by the user\n",
    "    unrated_movie_ids = [mid for mid in all_movie_ids if mid not in rated_movie_ids]\n",
    "    \n",
    "    # Predict ratings for all unrated movies\n",
    "    predictions = [(mid, model.predict(user_id, mid).est) for mid in unrated_movie_ids]\n",
    "    \n",
    "    # Sort predictions by predicted rating in descending order\n",
    "    predictions.sort(key=lambda x: x[1], reverse=True)\n",
    "    \n",
    "    # Return top n recommendations\n",
    "    return predictions[:n]\n",
    "\n",
    "# Example usage: Get top 10 recommendations for user with ID 1\n",
    "top_recs = get_recommendations(user_id=1, model=model, ratings_df=data, movies_df=movies_links, n=10)\n",
    "\n",
    "print(\"Top 10 Recommendations for User 1:\")\n",
    "for tmdbId, predicted_rating in top_recs:\n",
    "    title = movies_links[movies_links['tmdbId'] == tmdbId]['title'].iloc[0]\n",
    "    print(f\"TMDB ID: {tmdbId}, Title: {title}, Predicted Rating: {predicted_rating:.2f}\")"
   ]
  },
  {
   "cell_type": "markdown",
   "metadata": {},
   "source": [
    "DISMISS ABOVE"
   ]
  },
  {
   "cell_type": "markdown",
   "metadata": {},
   "source": [
    "DISMISS ABOVE"
   ]
  },
  {
   "cell_type": "markdown",
   "metadata": {},
   "source": [
    "DISMISS ABOVE"
   ]
  },
  {
   "cell_type": "code",
   "execution_count": 4,
   "metadata": {},
   "outputs": [],
   "source": [
    "import pandas as pd\n",
    "from sklearn.feature_extraction.text import TfidfVectorizer\n",
    "\n",
    "# Load movies.csv\n",
    "movies_df = pd.read_csv(\"./data/movie.csv\")\n",
    "# Load links.csv\n",
    "links_df = pd.read_csv(\"./data/link.csv\")\n",
    "# Load tags.csv\n",
    "tags_df = pd.read_csv(\"./data/tag.csv\")\n",
    "\n",
    "# 1) Merge tags for each movie into one string\n",
    "# Convert NaNs to empty strings and ensure all tags are strings\n",
    "tags_df[\"tag\"] = tags_df[\"tag\"].fillna(\"\").astype(str)\n",
    "\n",
    "tags_agg = tags_df.groupby(\"movieId\")[\"tag\"].apply(lambda x: \" \".join(x)).reset_index()\n",
    "tags_agg.columns = [\"movieId\", \"all_tags\"]\n",
    "\n",
    "# 2) Merge with movies to get each movie’s genres + tags\n",
    "movies_df = pd.merge(movies_df, tags_agg, on=\"movieId\", how=\"left\")\n",
    "\n",
    "# 3) Replace NaN tags with empty string\n",
    "movies_df[\"all_tags\"] = movies_df[\"all_tags\"].fillna(\"\")\n",
    "\n",
    "# 4) Combine genres + tags into a single text column\n",
    "movies_df[\"combined_text\"] = (\n",
    "    movies_df[\"genres\"].str.replace(\"|\", \" \", regex=False) + \" \" +\n",
    "    movies_df[\"all_tags\"].fillna(\"\")\n",
    ")\n",
    "\n",
    "# 5) Optional: add title as well (remove parentheses, years, etc. if you want)\n",
    "movies_df[\"combined_text\"] = (\n",
    "    movies_df[\"combined_text\"] + \" \" +\n",
    "    movies_df[\"title\"].str.lower().str.replace(\"[^a-z0-9 ]\", \"\", regex=True)\n",
    ")\n",
    "\n",
    "# 6) Vectorize\n",
    "tfidf = TfidfVectorizer()\n",
    "tfidf_matrix = tfidf.fit_transform(movies_df[\"combined_text\"])\n",
    "# Each row in tfidf_matrix is a movie, each column is a token from the corpus"
   ]
  },
  {
   "cell_type": "code",
   "execution_count": 5,
   "metadata": {},
   "outputs": [],
   "source": [
    "# Suppose we have user_doc from MongoDB with watchedMovies\n",
    "user_doc = {\n",
    "    \"username\": \"bias72\",\n",
    "    \"watchedMovies\": [\n",
    "        {\"tmdbId\": 862, \"title\": \"Toy Story (1995)\"},\n",
    "        {\"tmdbId\": 240, \"title\": \"The Godfather Part II\"}\n",
    "    ]\n",
    "}\n",
    "\n",
    "# 1) Map tmdbId -> movieId\n",
    "#    links_df has columns: movieId, imdbId, tmdbId\n",
    "tmdb_to_movie = dict(zip(links_df[\"tmdbId\"], links_df[\"movieId\"]))\n",
    "\n",
    "watched_tmdbIds = [m[\"tmdbId\"] for m in user_doc[\"watchedMovies\"]]\n",
    "watched_movieIds = []\n",
    "for t in watched_tmdbIds:\n",
    "    if t in tmdb_to_movie:\n",
    "        watched_movieIds.append(tmdb_to_movie[t])\n",
    "\n",
    "# 2) Get the rows in movies_df that match those movieIds\n",
    "watched_rows = movies_df[movies_df[\"movieId\"].isin(watched_movieIds)].index.tolist()\n",
    "\n",
    "# 3) For each watched row, retrieve its tf-idf vector\n",
    "import numpy as np\n",
    "\n",
    "if watched_rows:\n",
    "    watched_vectors = tfidf_matrix[watched_rows]\n",
    "    # Combine them: e.g. take average\n",
    "    user_profile = watched_vectors.mean(axis=0)\n",
    "else:\n",
    "    # If user has no mapped movies, fallback to a default approach\n",
    "    user_profile = np.zeros((1, tfidf_matrix.shape[1]))"
   ]
  },
  {
   "cell_type": "code",
   "execution_count": 7,
   "metadata": {},
   "outputs": [],
   "source": [
    "from sklearn.metrics.pairwise import cosine_similarity\n",
    "\n",
    "# Compare user_profile to every row in tfidf_matrix\n",
    "user_profile = np.asarray(user_profile)\n",
    "user_profile = user_profile.reshape(1, -1)  # ensures shape = (1, n_features)\n",
    "\n",
    "sims = cosine_similarity(user_profile, tfidf_matrix)\n",
    "\n",
    "# Flatten to get a single array of similarity scores\n",
    "similarities = sims.flatten()\n",
    "\n",
    "# Sort movies by descending similarity\n",
    "sorted_indices = np.argsort(-similarities)\n",
    "\n",
    "# Create a list of recommended movieIds in descending order of similarity\n",
    "recommended_indices = []\n",
    "for idx in sorted_indices:\n",
    "    movie_id = movies_df.iloc[idx][\"movieId\"]\n",
    "    recommended_indices.append(movie_id)\n",
    "\n",
    "# Exclude the movies the user has already watched\n",
    "recommended_indices = [m for m in recommended_indices if m not in watched_movieIds]\n",
    "\n",
    "# Take top 10\n",
    "top_10 = recommended_indices[:10]"
   ]
  },
  {
   "cell_type": "code",
   "execution_count": 8,
   "metadata": {},
   "outputs": [
    {
     "name": "stdout",
     "output_type": "stream",
     "text": [
      "3114 Toy Story 2 (1999) Adventure|Animation|Children|Comedy|Fantasy animation humorous Pixar animation cute fanciful toys Pixar animation animation computer animation Disney friendship kids and family Pixar toys Oscar Nominee abandonment imdb top 250 Pixar sequel friendship cgi computer animation Disney Pixar RACE AGAINST TIME sequel Tom Hanks bright DARING RESCUES fanciful humorous light RACE AGAINST TIME TOYS COME TO LIFE whimsical sequel better than original Pixar Pixar animation Disney Pixar Tim Allen Tom Hanks original Pixar cgi Disney Pixar computer animation Pixar Tom Hanks Disney friendship funny Pixar childhood classic funny Pixar Tom Hanks Pixar cgi Pixar sequel animation Disney Pixar imdb top 250 animation Joan Cusack Pixar Tim Allen Tom Hanks original animation Disney Pixar Pixar original Disney pixar animation Disney Pixar Tom Hanks computer animation Pixar animation Pixar Pixar Pixar funny Oscar Nominee Pixar animation childish Disney Pixar sequel toys whimsical very good but the first was better Best of Rotten Tomatoes: All Time John Lasseter Lee Unkrich Disney Pixar computer animation Disney Pixar Tim Allen Tom Hanks Pixar Funny as hell funny cgi avi buy Pixar 3D computer animation Pixar DVD1 Pixar toys original Pixar almost favorite abandonment animation cgi computer animation Disney funny humorous imdb top 250 Joan Cusack John Cusack Oscar Nominee Pixar Pixar animation RACE AGAINST TIME sequel Tim Allen Tom Hanks toys Disney computer animation Pixar Tom Hanks. humorous Disney Pixar Tom Hanks abandonment animation cgi computer animation Disney fanciful funny humorous John Cusack Oscar Nominee Pixar Pixar animation sequel Tim Allen Tom Hanks whimsical Pixar imdb top 250 Pixar sequel sequel original animation characters cute funny music story voice acting computer animation animation computer animation Disney funny humorous Pixar sequel Tom Hanks whimsical animation Funny as hell imdb top 250 Pixar Pixar animation humorous animation computer animation Disney divx funny humorous imdb top 250 John Lasseter Pixar Tim Allen Tom Hanks 2009 reissue in Stereoscopic 3-D BD-Video DVD-Video animation Pixar kids and family abandonment Pixar animation erlend's DVDs dolls computer animation Disney Oscar Nominee animation funny humorous sequel Pixar cgi Disney Pixar very good but the first was better Tumey's VHS\n",
      "858 Godfather, The (1972) Crime|Drama Katso Sanna! Mafia mafia afi100 Al Pacino classic organized crime robert de niro Mafia Marlon Brando Al Pacino atmospheric based on a book great acting jus+san melancholy Nudity (Topless) Classic Oscar (Best Actor) Al Pacino atmospheric based on a book family Marlon Brando melancholy Nudity (Topless) organized crime robert de niro organized crime masterpiece classic mafia mob masterpiece classic FALL FROM POWER FATHERS AND SONS lavish MAFIA LIFE melancholy menacing RISE TO POWER somber stylized sweeping visceral sequel better than original oscar (best directing) the romance of crime atmospheric Mafia oscar (best directing) Mafia great acting oscar (best directing) Goldie Hawn Marlon Brando boring atmospheric stylized organized crime great acting Al Pacino based on a book classic family Mafia melancholy Nudity (Topless) organized crime Oscar (Best Picture) robert de niro New York City classic Nudity (Topless) atmospheric family Mafia melancholy Nudity (Topless) organized crime great acting oscar (best directing) organized crime cinematography classic Mafia Mafia Al Pacino Francis Ford Coppola Marlon Brando need to buy mafia Francis Ford Copolla Al Pacino Mafia organized crime classic great acting oscar (best directing) masterpiece based on a book organized crime Oscar (Best Picture) great acting oscar (best directing) 100 Greatest Movies boring too long Action Guns oscar (best directing) Mafia old school mob tag coppola guns Al Pacino atmospheric imdb top 250 Oscar (Best Actor) Oscar (Best Picture) Al Pacino classic imdb top 250 Mafia organized crime Oscar (Best Actor) Oscar (Best Picture) robert de niro Oscar (Best Picture) Nudity (Topless) masterpiece drama Mafia organized crime violence great acting Al Pacino based on a book Nudity (Topless) boring classic Al Pacino Francis Ford Coppola Mafia classic mob Action Al Pacino Mafia Nudity (Topless) robert de niro Oscar (Best Picture) coppola Oscar (Best Picture) Al Pacino classic atmospheric based on a book complex relationships immigrants Mafia organized crime robert de niro stylized Mafia Al Pacino classic drama Mafia robert de niro masterpiece organized crime great acting based on a book catchy theme organized crime Al Pacino Francis Ford Coppola Marlon Brando italian people mafia life Marlon Brando imdb top 250 Al Pacino Diane Keaton Francis Ford Coppola Marlon Brando Robert Duvall long Al Pacino based on a book crime drama family imdb top 250 Mafia New York City Nudity (Topless) robert de niro visceral overrated Mafia Al Pacino great acting Mafia melancholy organized crime robert de niro classic Al Pacino atmospheric John Cazale Marlon Brando great acting oscar (best directing) Mafia Oscar (Best Picture) Al Pacino atmospheric classic crime imdb top 250 Mafia melancholy Nudity (Topless) organized crime Oscar (Best Actor) Oscar (Best Picture) robert de niro Al Pacino atmospheric James Caan mafia Marlon Brando Robert Duvall violence classic and atmospheric Al Pacino Francis Ford Coppola Marlon Brando robert de niro Mafia dvd adapted from:book AFI 100 AFI 100 (Movie Quotes) atmospheric author:Mario Puzo bathtub breakthroughs Classic Exceptional Acting FALL FROM POWER family father son relationship great cast excellent guns immigrants mafia Memorable Characters mob New York City Nudity (Topless) organized crime Oscar (Best Actor) Oscar (Best Picture) patriarch sequel better than original stylized visceral highly quotable masterpiece Mafia robert de niro Al Pacino based on a book classic Mafia robert de niro imdb top 250 organized crime Oscar (Best Picture) too long melancholy organized crime AFI #3 BEST PICTURE boring BORING! Mafia MarinaVista Overrated awesome great acting organized crime great acting oscar (best directing) great acting oscar (best directing) classic FALL FROM POWER old school mob mafia great acting oscar (best directing) Al Pacino sequel better than original organized crime Oscar (Best Picture) al pacino Best of Rotten Tomatoes: All Time Francis Ford Coppola cinematographer:Gordon Willis Al Pacino Mafia robert de niro Al Pacino family relationships italians mafia Marlon Brando organized crime photography soundtrack crime Mafia organized crime great acting oscar (best directing) book crime drama Francis Ford Coppola USA great acting good acting oscar (best directing) Al Pacino atmospheric classic Mafia Mafia Al Pacino masterpiece Al Pacino Mafia organized crime Exceptional Acting Memorable Characters My movies Al Pacino Nudity (Topless) organized crime robert de niro classic family robert de niro Al Pacino based on a book drama family Francis Ford Coppola James Caan mafia Marlon Brando New York City Robert De Niro R DVD Francis Ford Copolla own crime Mafia Nudity (Topless) organized crime violence based on a book Mafia Oscar (Best Picture) masterpiece Divx1 italian mafia crime drama Mafia melancholy Nudity (Topless) organized crime Mafia great acting oscar (best directing) Overrated based on a book imdb top 250 Mafia nudity (topless) organized crime length masterpiece Al Pacino Mafia organized crime masterpiece great acting oscar (best directing) Al Pacino mafia slow great acting classic Mafia Marlon Brando great acting oscar (best directing) Francis Ford Copolla Marlon Brando Al Pacino Marlon Brando Robert Duvall classical Mafia Can't remember classic movie to see lack of character development Best Movies Ever entertaining exciting interesting Mafia Al Pacino New York City organized crime violence crime Mafia organized crime AFI 100 AFI 100 (Movie Quotes) AFI 100 (Thrills) Classic mafia Oscar (Best Actor) Oscar (Best Picture) watch-again Mafia book Mafia organized crime Oscar (Best Actor) Oscar (Best Picture) Al Pacino based on a book classic crime organized crime Im gonna make him an offer he can't refuse. A true masterpiece breakthroughs mafia New York organized crime Oscar (Best Actor) Oscar (Best Directing) Oscar (Best Picture) classic greatest movie of all time I Don't Get It BORING! immigrants large nostra visual owned robert de niro mvlc Mafia visceral great acting oscar (best directing) classic violence based on a book Mafia Oscar (Best Picture) Al Pacino James Caan Marlon Brando Robert Duvall classic melancholy organized crime Oscar (Best Picture) Action Al Pacino classic crime drama Mafia organized crime Al Pacino crime Francis Ford Coppola Mario Puzo Marlon Brando organized crime Robert Duvall Al Pacino atmospheric immigrants Mafia melancholy organized crime classic great acting strong director acting great acting oscar (best directing) Al Pacino atmospheric catchy theme crime melancholy organized crime robert de niro atmospheric stylized crime family mafia classic family Mafia organized crime Al Pacino classic Italian mafia Marlon Brando New York City organized crime story great cast excellent masterpiece acting Al Pacino family long mafia Marlon Brando melancholy Nudity (Topless) organized crime story organized crime Al Pacino classic Marlon Brando Oscar (Best Picture) DIVX great acting mafia oscar (best directing) Al Pacino based on a book classic great acting oscar (best directing) Oscar (Best Picture) robert de niro DVD-Video VHS classic Mafia classic great acting mafia organized crime available DVD erlend's DVDs crime mature family mafia Marlon Brando Sicily great acting great acting oscar (best directing) classic dvd Al Pacino Diane Keaton Francis Ford Copolla James Caan Mario Puzo Marlon Brando atmospheric memasa's movies National Film Registry Netflix Finland great acting oscar (best directing) Al Pacino classic Mafia organized crime robert de niro Mafia organized crime Al Pacino organized crime oscar (best directing) oscar (best directing) classic Mafia mafia classic crime Mafia Tumey's DVDs Tumey's To See Again Mafia great acting crime Mafia Nudity (Topless)\n",
      "4886 Monsters, Inc. (2001) Adventure|Animation|Children|Comedy|Fantasy Billy Crystal Jennifer Tilly John Goodman Pixar Watched Bechdel Test:Fail doors as portals missing/kidnapped child Pixar animation subgenre:buddies cute funny Pixar Oscar Winner CGI Comedy cute Pixar animation classic Comedy hilarious Pixar Pixar Pixar Pixar Comedy Pixar Pixar animation Comedy cute classic animated tale movielens top pick Billy Crystal James Coburn John Goodman Mary Gibbs Steve Buscemi Pixar disruptive Oscar (Best Picture) Pixar touching Animated Comedy animation Comedy cute Pixar Pixar animation animation enjoyable fun innovative Pixar Animation Comedy Cartoon well done Pixar Pixar Disney hella cool cute funny Pixar fantasy seen more than once imdb top 250 animation Pixar animation Disney Pixar animated animation cartoon cute Pixar Pixar animation Steve Buscemi cartoon cute great concept pixar animation Comedy funny original animation Pixar Animation pixar sweet movie! Animation Disney hilarious Oscar (Best Music - Original Song) Pixar Pixar Steve Buscemi seen more than once hilarious Pixar dvd pixar seen more than once 3 animation Comedy funny Oscar (Best Music - Original Score) Oscar (Best Music - Original Song) Oscar Winner Pixar Pixar David Silverman Lee Unkrich Pete Docter animated animation classic animated tale Comedy cute Disney good cartoon children hilarious kids fun movielens top pick Oscar (Best Music - Original Score) Oscar (Best Music - Original Song) Oscar Winner own Owned Pixar sweet movie! the best of for kids and adults Pixar animated animation Disney Pixar animation Comedy Pixar Pixar Steve Buscemi My movies Comedy Pixar dvd animation Pixar Pixar animation comedy animated animation CGI cute Disney innovative kids fun cute DVD Pixar children cute Pixar good cartoon children the best of for kids and adults Animation watched 2006 own monsters animated animation CGI classic Comedy cute Disney funny hilarious imdb top 250 innovative John Goodman monsters Oscar (Best Music - Original Score) Oscar (Best Music - Original Song) Oscar Winner Pixar Pixar animation seen more than once Steve Buscemi Disney Disney Pixar animation Comedy hilarious Pixar funny animated animation Comedy hilarious Pixar owned Pixar Pixar Pixar hilarious seen more than once animation characters clever dialogue funny script story voice acting witty John Goodman Steve Buscemi classic disney vivid characters animation Pixar Comedy John Goodman Pixar Andrew Stanton animation Comedy Disney DIVX funny imdb top 250 Oscar (Best Music - Original Score) Oscar (Best Music - Original Song) Pete Docter Pixar Randy Newman cute funny innovative music original animation comedy funny kids fun Dimensionalized 2-D to 3-D for reissue in 2012 Pixar Billy Crystal door to the different world John Goodman Pixar Comedy Favorites seen more than once Katottava library vhs Pixar Disney Pixar Tumey's DVDs\n",
      "2355 Bug's Life, A (1998) Adventure|Animation|Children|Comedy Watched computer animation Disney animated feature Pixar animation animated animation Disney Disney animated feature insects Pixar talking animals Oscar Nominee Pixar fun Pixar Pixar Pixar story buddy Dave Foley Pixar animation Disney Pixar story bugs Animated insects Kevin Spacey oppression power in numbers royalty animation animation Disney childhood flashback coming of age funny Pixar Pixar animation comedy heterosexuality animation Disney Pixar Pixar animation Disney Pixar animation Pixar pixar easily confused with other movie(s) (Antz) Pixar funny good John Lasseter Pixar avi good plot: Seven Samurai story animation Pixar bugs inventor Pixar talking animals story story to kids Pixar animation Pixar Disney Disney Pixar delights animation Pixar Pixar animated animation characters cute fun funny voice acting witty story coming of age Disney FIGHTING THE SYSTEM funny humor humorous Kevin Spacey Pixar Pixar animation na dysku Animated childhood flashback Pixar animated Pixar erlend's DVDs humor inventor kids and family Pixar acting circus coming of age community cultural customs and traditions flying food insects inventor nature royalty Bibliothek animation Disney Pixar animation FIGHTING THE SYSTEM funny kids and family Pixar animation Disney Pixar\n",
      "78499 Toy Story 3 (2010) Adventure|Animation|Children|Comedy|Fantasy|IMAX tense Alive toys adventure animation bittersweet childhood friendship Pixar Alive toys childhood Pixar toys adventure animation childhood children franchise friendship oppression Pixar Pixar animation sequel tear jerker tense torture toys violence visually appealing bittersweet children franchise visually appealing CGI Pixar animation childhood friendship music Pixar sequel Tim Allen Tom Hanks visually appealing Pixar Don Rickles Pixar Tim Allen Tom Hanks Tom Hanks weird Pixar sinister emotional funny i cried Comedy Pixar Pixar animation animation bittersweet emotional friendship Pixar tear jerker bittersweet childhood classic Pixar Tom Hanks Pixar pixar tear jerker visually appealing animation Pixar tense torture visually appealing adventure animation friendship Pixar tense Tom Hanks Pixar duplicity oppression pixar Animation Comedy Tim Allen Tom Hanks animation anthropomorphism Bechdel Test:Pass betrayal bittersweet childhood children day care center escape eye franchise friendship funny G going home good versus evil losing a hat loss of eye manipulation MoviePig Top Pick music Oscar (Best Animated Feature) Oscar (Best Music - Original Song) Oscar Nominee: Adapted Screenplay Oscar Nominee: Best Picture Oscar Nominee: Sound Editing Pixar screenwriter:Michael Arndt Seen 2013 sequel tense terror Timothy Dalton torture toys violence visually appealing witty women disguised as men animation animation interrogation torture violence visually appealing Pixar adventure animation toplist10 adventure childhood Pixar toys animation Pixar childhood children friendship Pixar tear jerker Tom Hanks Lee Unkrich boring overrated story bittersweet music nostalgic Pixar visually appealing adventure childhood children friendship visually appealing Pixar adventure animation childhood children franchise Joan Cusack Lee Unkrich Pixar sequel Tim Allen Tom Hanks toys visually appealing animation Pixar Joan Cusack score tear jerker Tom Hanks Pixar children adventure childhood children friendship torture visually appealing bittersweet imaginative overly sentimental Pixar Tom Hanks torture violence visually appealing big budget bittersweet franchise Oscar (Best Animated Feature) Pixar torture toys Pixar tense childhood childhood Pixar animation Oscar (Best Animated Feature) Pixar visually appealing Pixar animation characters friendship funny sad story witty worn out story Pixar music score animation Pixar tear jerker tense Timothy Dalton visually appealing torture violence BD-Video IMAX DMR 3-D Stereoscopic 3-D Ken animation erlend's DVDs Pixar Annemari dolls escape good versus evil kindergarten overrated toys TOYS COME TO LIFE watch the credits cgi\n",
      "6377 Finding Nemo (2003) Adventure|Animation|Children|Comedy animation Watched Disney animated feature missing/kidnapped child orphaned cartoon character Pixar animation short-term memory loss short-term memory loss Ellen Degeneres family heartwarming Pixar cgi children Disney father-son relationship feel good movie short-term memory loss ocean children Pixar predictable too cute Pixar animation Pixar father-son relationship friendship Pixar Pixar animation Disney too cute Pixar Nice film noir lost child talking animals underwater Pixar short-term memory loss Pixar animation My DVDs Pixar Animated heartwarming Pixar talking animals feel good movie Animation Comedy Pixar animals animation children Comedy Disney father-son relationship funny ocean talking animals underwater Pixar ========================= pixar Disney classic family bonds father-son relationship Pixar animation Disney funny Pixar short-term memory loss not as good as Shrek overrated animation friendship Pixar animation Pixar Pixar imdb top 250 animation Eric Bana Pixar children fun animation Disney Pixar animation children Disney Disney animated feature Pixar Pixar animation talking animals short-term memory loss cartoon fish lost child seen more than once animals Comedy friendship Oscar (Best Animated Feature) singing mine Pixar pixar animation fish ocean Pixar animation Disney Pixar Disney funny Pixar animals children Oscar (Best Animated Feature) anxiety father-son relationship funny heartwarming Pixar boring animation children Disney Disney animated feature family bonds friendship Pixar talking animals Andrew Stanton short-term memory loss Pixar My movies animation birds Disney fish Oscar Winner animation Disney Pixar G animation Pixar talking animals touching short-term memory loss dvd short-term memory loss animation Pixar ocean Divx1 animation birds children Comedy feel good movie funny memory loss ocean talking animals underwater animation Pixar ocean Pixar talking animals animation children film noir funny Pixar underwater short-term memory loss Pixar Disney animals CGI disney fish pixar soundtrack tears short-term memory loss very good Disney fish seen at the cinema Favorite own Pixar Pixar animation father-son relationship Pixar Oscar (Best Animated Feature) animals animation children classic Comedy Disney Disney animated feature father-son relationship film noir funny imdb top 250 ocean Oscar (Best Animated Feature) Oscar Winner Pixar Pixar animation predictable Saturn Award (Best Animated Film) talking animals underwater Disney Disney Pixar funny animation classic Disney Disney animated feature Pixar father-son relationship memory loss Pixar predictable singing talking animals too cute underwater owned animation Pixar Pixar animation cgi own Pixar Comedy family funny heartwarming Oscar (Best Animated Feature) Pixar Pixar animated Pixar animation father-son relationship feel good movie Pixar underwater animation characters cute family bonds funny story voice acting classic disney fish underwater vivid characters animation Pixar birds cgi children Comedy Disney father-son relationship funny memory loss ocean Pixar underwater short-term memory loss DVD fish ocean animation Comedy funny short-term memory loss 55 movies every kid should see--Entertainment Weekly BD-Video Dimensionalized 2-D to 3-D for reissue in 2012 animation Disney Pixar animation anthropomorphized animals underwater Animation animated classic Pixar seen more than once animation erlend's DVDs Pixar boring cutesy animation Coming of Age family bonds father-son relationship fish funny heartwarming ocean talking animals underwater birds dentist MISCHIEVOUS CHILDREN See: The SpongeBob SquarePants Movie Sydney animation father-son relationship Pixar ocean animation Pixar Pixar animation Disney Pixar animation underwater Pixar animation Disney Pixar short-term memory loss short-term memory loss funny Tumey's DVDs\n",
      "2023 Godfather: Part III, The (1990) Crime|Drama|Mystery|Thriller mafia mafia jus+san Al Pacino Andy Garcia bad ending corruption drama Francis Ford Coppola gangsters italian mafia organized crime politics Al Pacino mafia Good versus evil Classic Al Pacino Francis Ford Coppola need to buy Francis Ford Copolla mafia organized crime Mafia Nudity (Topless - Brief) underrated Al Pacino bad acting derivative disappointing sequel Sophia Coppola unsatisfying Al Pacino Classic Francis Ford Copolla mafia Christ. Sophia Coppola Al Pacino Francis Ford Coppola Al Pacino organized crime corruption drama Francis Ford Coppola mafia organized crime politics stylized organized crime stylized dvd gangsters mafia overrated slow amazing! mafia Al Pacino organized crime Francis Ford Coppola cinematographer:Gordon Willis Sophia Coppola My movies DVD own 1970s gangsters Mafia New York City what to say about god? on disc Al Pacino mafia New York City organized crime Al Pacino DIVX Al Pacino mafia 70mm DVD-Video Super-35 Blow-Up available DVD Al Pacino Francis Ford Copolla Francis Ford Coppola Nudity (Topless - Brief) Al Pacino Francis Ford Copolla memasa's movies Netflix Finland Al Pacino Classic mafia organized crime mafia organized crime Tumey's DVDs\n",
      "8961 Incredibles, The (2004) Action|Adventure|Animation|Children|Comedy animation powers Watched alter ego death/fatality Disney animated feature notable:fashion designer (scene) Pixar animation related:The Incredibles (2004) superhero super-hero animation family superhero Pixar family consistent double life funny script self discovery supernatural Animation family superhero action Adventure alter ego animation comedy comic book family fashion funny Pixar Pixar animation self discovery stylized super-hero superhero fall of superheros self discovery superheros Pixar Pixar animation Pixar classic Pixar Pixar Pixar Ingmar Bergman Mr. Incredible action family hero powers super super hero dvd Pixar super-hero Helen Parr Violet Parr Pixar disruptive innovative Jazz Pixar superhero great animation family Pixar super-hero Adventure Pixar action Pixar Samuel L. Jackson superhero action animation comedy superhero animation Pixar Cartoon Disney alter ego imdb top 250 oscar super-hero Pixar Dynamic CGI Action graphics storyline pixar bond action superheroes Adventure animation comic book seen more than once action Pixar superhero animation Pixar superhero imdb top 250 animation Pixar Samuel L. Jackson scope animation Pixar animation Disney Pixar stylized super-hero superhero superheroes cartoon cute Disney animated feature funny supernatural Gfei own it Adventure Pixar har nogle meget fine ting. men det er ikke helt i top. den er mere eventyragtig og bÃ¸rnefilmagtig end despicable me og megamind pixar action funny imdb top 250 Oscar (Best Animated Feature) Pixar Samuel L. Jackson stylized superhero Pixar superhero alter ego animated comic book family Pixar super-hero dibujos bonita animation comedy family comic book Pixar family Pixar 1.5 good pixar Brad Bird action Adventure animation comedy dibujos bonita Disney family fashion imdb top 250 Mr. Incredible Oscar (Best Animated Feature) Pixar super-hero Pixar secret identity super-power superhero team Samuel L. Jackson Brad Bird animation Pixar superhero PG animation Pixar Great Effects Pixar dvd Pixar action Adventure comedy superhero animation Samuel L. Jackson own seen more than once Want animation comedy family funny Eric's Dvds animation double life imdb top 250 invisibility Pixar superhero seen more than once Michael Giacchino children Pixar Pixar Animation Disney superhero watched 2006 animation Pixar Oscar (Best Effects - Sound Effects Editing) Oscar (Best Animated Feature) animation comic book superhero super-hero Disney Pixar superhero Adventure comedy Pixar super-hero superhero action comedy comic book imdb top 250 Pixar superhero action Pixar superhero Pixar Pixar super-hero animation Pixar Pixar Pixar animation Brad Bird family Pixar self discovery superhero Pixar super-hero Animation Pixar animation characters dialogue family script story voice acting animation animated comedy family superhero fashion animation comic book family Pixar bond classic comedy funny Pixar stylized family fashion super-hero superhero DVD action Disney family Hugo Award imdb top 250 Pixar superhero 55 movies every kid should see--Entertainment Weekly BD-R BD-Video DVD-Video Pixar superhero superhero action Adventure Pixar Samuel L. Jackson superhero superheroes action Adventure Animation super-hero Pixar Samuel L. Jackson superhero erlend's DVDs action funny Adventure family Pixar stylized super-hero innovative Kate my shopping list animation Pixar superhero Pixar Pixar family Pixar super-hero action Adventure alter ego classic comedy family Pixar super hero super-hero superhero superheroes super-hero Disney alter ego comic book imdb top 250 Samuel L. Jackson stylized\n",
      "5218 Ice Age (2002) Adventure|Animation|Children|Comedy Watched Carlos Saldanha Chris Wedge animated redemption Carlos Saldanha (co-director) Chris Wedge annoying pixar pixar animation cartoon Children Maybe children like it ice John Leguizamo pixar pixar animated animation Disney pixar talking animals Animated children pixar pixar animation nut ice pixar pixar animation comedy pixar sloth animation Jack Black John Leguizamo animals cartoon fun ice animals animated animation best animated movie cartoon cgi Disney environmental funny pixar Ray Romano sloth talking animals witty animals animation annoying cartoon children funny pixar Jinni Top Pick Yahoo Top Pick animation talking animals Maybe children like it Showing off C.G. limitations animated animation cartoon Jack Black pixar pixar Comedy a very good moive Carlos Saldanha Chris Wedge Ray Romano funny animation pixar funny pixar dvd pixar DVD animation animals directorial debut redemption talking animals Twentieth Century-Fox wintry animation funny pixar seen at the cinema animated Disney animation Disney pixar funny pixar owned pixar animation cgi own comedy pixar bland character environmental funny inuendo witty Excelente! pixar cartoon John Leguizamo animation erlend's DVDs own it pixar Katottava best animated movie fun Ray Romano\n",
      "50872 Ratatouille (2007) Animation|Children|Drama Pixar's Formula Starting To Get Stale Watched apprenticeship Bechdel Test:Fail food/cooking puppetry setting:Paris a rat in the kitcheeeeen! food/cooking paris rats animation clever cooking food food/cooking France imagination inspirational talking animals pixar Pixar's Formula Starting To Get Stale food animation pixar rats talking animals pixar animation paris pixar pixar story animation food mouse story lawyers pixar Animated netflix food/cooking imaginary friend pixar Pixar Disney cooking rats paris paris Pixar Pixar animation rats movie to see cooking Disney France rats animation cooking Disney food pixar animation animation hahaha Pixar animation yoyoyo animation Pixar animation accents France funny original Pixar animation rats sweet pixar pixar animation cooking Disney funny imagination pixar Disney Good Animation Pixar top funniest animation animation cooking paris pixar animation Pixar pixar cooking pixar fun kids movie animation Disney pixar animation cooking Disney imaginary friend paris pixar Pixar animation talking animals a clever chef rat cute. cartoon funny animation France funny imagination inspirational paris pixar rats Pixar cooking funny pixar pixar Disney food/cooking France imagination Janeane Garofalo lawyers Patton Oswalt pixar rats talking animals tinseltown Disney MoviePig Top Pick Yahoo Top Pick animation Disney food/cooking paris pixar rats talking animals animation cooking France pixar animation Disney pixar talking animals animation children cooking Disney food funny imagination pixar story Pixar Brad Bird Patton Oswalt pixar Brad Bird animation Brad Bird children cooking Disney food France imaginary friend inspirational Paris Pixar rats talking animals animation Disney pixar G food animation pixar pixar animation pixar pixar animation books cooking Family food food/cooking France funny imaginary friend imagination rats talking animals story fish out of water food France imaginary friend IMDB Top 250 Oscar (Best Animated Feature) Paris Pixar restaurant talking animals animation pixar Michael Giacchino pixar story paris Animation G setting:Paris top funniest animation cooking food France rats cooking France paris pixar cooking food/cooking paris Patton Oswalt animation funny paris pixar pixar talking animals animation cooking Disney food France Janeane Garofalo Pixar animation restaurant food Pixar funny animation Disney Family food great for the kids and adults imdb top 250 Oscar (Best Animated Feature) pixar Pixar animation setting:Paris owned animation Disney funny pixar Pixar animation restaurant story talking animals cooking Pixar rats talking animals Pixar clever Family pixar animation 27-12-2007 animation characters cute dialogue funny romantic script voice acting animation Pixar animation Pixar ugh story Do kupienia story clever funny imaginative BD-Video DVD-Video great for the kids and adults pixar animation erlend's DVDs pixar Family food/cooking imagination pixar story anthropomorphic blindfold books chefs community customer service Family imaginary friend imagination kitchen lawyers Pixar's Formula Starting To Get Stale recipe restaurant See: Wallace and Gromit: The Curse of the Were-Rabbit television show TV show will (law) animation cooking Family funny\n"
     ]
    }
   ],
   "source": [
    "for mid in top_10:\n",
    "    row = movies_df[movies_df[\"movieId\"] == mid].iloc[0]\n",
    "    print(mid, row[\"title\"], row[\"genres\"], row[\"all_tags\"])"
   ]
  }
 ],
 "metadata": {
  "kernelspec": {
   "display_name": "Python 3",
   "language": "python",
   "name": "python3"
  },
  "language_info": {
   "codemirror_mode": {
    "name": "ipython",
    "version": 3
   },
   "file_extension": ".py",
   "mimetype": "text/x-python",
   "name": "python",
   "nbconvert_exporter": "python",
   "pygments_lexer": "ipython3",
   "version": "3.12.6"
  }
 },
 "nbformat": 4,
 "nbformat_minor": 2
}
