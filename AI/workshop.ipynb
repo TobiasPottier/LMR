{
 "cells": [
  {
   "cell_type": "markdown",
   "metadata": {},
   "source": [
    "**DATA PREVIEW**"
   ]
  },
  {
   "cell_type": "code",
   "execution_count": 2,
   "metadata": {},
   "outputs": [
    {
     "name": "stdout",
     "output_type": "stream",
     "text": [
      "Ratings:\n"
     ]
    },
    {
     "data": {
      "text/html": [
       "<div>\n",
       "<style scoped>\n",
       "    .dataframe tbody tr th:only-of-type {\n",
       "        vertical-align: middle;\n",
       "    }\n",
       "\n",
       "    .dataframe tbody tr th {\n",
       "        vertical-align: top;\n",
       "    }\n",
       "\n",
       "    .dataframe thead th {\n",
       "        text-align: right;\n",
       "    }\n",
       "</style>\n",
       "<table border=\"1\" class=\"dataframe\">\n",
       "  <thead>\n",
       "    <tr style=\"text-align: right;\">\n",
       "      <th></th>\n",
       "      <th>userId</th>\n",
       "      <th>movieId</th>\n",
       "      <th>rating</th>\n",
       "      <th>timestamp</th>\n",
       "    </tr>\n",
       "  </thead>\n",
       "  <tbody>\n",
       "    <tr>\n",
       "      <th>0</th>\n",
       "      <td>1</td>\n",
       "      <td>2</td>\n",
       "      <td>3.5</td>\n",
       "      <td>2005-04-02 23:53:47</td>\n",
       "    </tr>\n",
       "    <tr>\n",
       "      <th>1</th>\n",
       "      <td>1</td>\n",
       "      <td>29</td>\n",
       "      <td>3.5</td>\n",
       "      <td>2005-04-02 23:31:16</td>\n",
       "    </tr>\n",
       "    <tr>\n",
       "      <th>2</th>\n",
       "      <td>1</td>\n",
       "      <td>32</td>\n",
       "      <td>3.5</td>\n",
       "      <td>2005-04-02 23:33:39</td>\n",
       "    </tr>\n",
       "    <tr>\n",
       "      <th>3</th>\n",
       "      <td>1</td>\n",
       "      <td>47</td>\n",
       "      <td>3.5</td>\n",
       "      <td>2005-04-02 23:32:07</td>\n",
       "    </tr>\n",
       "    <tr>\n",
       "      <th>4</th>\n",
       "      <td>1</td>\n",
       "      <td>50</td>\n",
       "      <td>3.5</td>\n",
       "      <td>2005-04-02 23:29:40</td>\n",
       "    </tr>\n",
       "  </tbody>\n",
       "</table>\n",
       "</div>"
      ],
      "text/plain": [
       "   userId  movieId  rating            timestamp\n",
       "0       1        2     3.5  2005-04-02 23:53:47\n",
       "1       1       29     3.5  2005-04-02 23:31:16\n",
       "2       1       32     3.5  2005-04-02 23:33:39\n",
       "3       1       47     3.5  2005-04-02 23:32:07\n",
       "4       1       50     3.5  2005-04-02 23:29:40"
      ]
     },
     "execution_count": 2,
     "metadata": {},
     "output_type": "execute_result"
    }
   ],
   "source": [
    "# Import necessary libraries\n",
    "import pandas as pd\n",
    "import numpy as np\n",
    "\n",
    "# Load the CSV files (adjust paths as necessary)\n",
    "ratings = pd.read_csv('./data/rating.csv')     # Contains: userId, movieId, rating, timestamp\n",
    "movies = pd.read_csv('./data/movie.csv')       # Contains: movieId, title, genres\n",
    "links = pd.read_csv('./data/link.csv')         # Contains: movieId, imdbId, tmdbId\n",
    "\n",
    "# Display the first few rows of each DataFrame to confirm they loaded correctly\n",
    "print(\"Ratings:\")\n",
    "ratings.head()"
   ]
  },
  {
   "cell_type": "code",
   "execution_count": 3,
   "metadata": {},
   "outputs": [
    {
     "name": "stdout",
     "output_type": "stream",
     "text": [
      "\n",
      "Movies:\n"
     ]
    },
    {
     "data": {
      "text/html": [
       "<div>\n",
       "<style scoped>\n",
       "    .dataframe tbody tr th:only-of-type {\n",
       "        vertical-align: middle;\n",
       "    }\n",
       "\n",
       "    .dataframe tbody tr th {\n",
       "        vertical-align: top;\n",
       "    }\n",
       "\n",
       "    .dataframe thead th {\n",
       "        text-align: right;\n",
       "    }\n",
       "</style>\n",
       "<table border=\"1\" class=\"dataframe\">\n",
       "  <thead>\n",
       "    <tr style=\"text-align: right;\">\n",
       "      <th></th>\n",
       "      <th>movieId</th>\n",
       "      <th>title</th>\n",
       "      <th>genres</th>\n",
       "    </tr>\n",
       "  </thead>\n",
       "  <tbody>\n",
       "    <tr>\n",
       "      <th>0</th>\n",
       "      <td>1</td>\n",
       "      <td>Toy Story (1995)</td>\n",
       "      <td>Adventure|Animation|Children|Comedy|Fantasy</td>\n",
       "    </tr>\n",
       "    <tr>\n",
       "      <th>1</th>\n",
       "      <td>2</td>\n",
       "      <td>Jumanji (1995)</td>\n",
       "      <td>Adventure|Children|Fantasy</td>\n",
       "    </tr>\n",
       "    <tr>\n",
       "      <th>2</th>\n",
       "      <td>3</td>\n",
       "      <td>Grumpier Old Men (1995)</td>\n",
       "      <td>Comedy|Romance</td>\n",
       "    </tr>\n",
       "    <tr>\n",
       "      <th>3</th>\n",
       "      <td>4</td>\n",
       "      <td>Waiting to Exhale (1995)</td>\n",
       "      <td>Comedy|Drama|Romance</td>\n",
       "    </tr>\n",
       "    <tr>\n",
       "      <th>4</th>\n",
       "      <td>5</td>\n",
       "      <td>Father of the Bride Part II (1995)</td>\n",
       "      <td>Comedy</td>\n",
       "    </tr>\n",
       "  </tbody>\n",
       "</table>\n",
       "</div>"
      ],
      "text/plain": [
       "   movieId                               title  \\\n",
       "0        1                    Toy Story (1995)   \n",
       "1        2                      Jumanji (1995)   \n",
       "2        3             Grumpier Old Men (1995)   \n",
       "3        4            Waiting to Exhale (1995)   \n",
       "4        5  Father of the Bride Part II (1995)   \n",
       "\n",
       "                                        genres  \n",
       "0  Adventure|Animation|Children|Comedy|Fantasy  \n",
       "1                   Adventure|Children|Fantasy  \n",
       "2                               Comedy|Romance  \n",
       "3                         Comedy|Drama|Romance  \n",
       "4                                       Comedy  "
      ]
     },
     "execution_count": 3,
     "metadata": {},
     "output_type": "execute_result"
    }
   ],
   "source": [
    "print(\"\\nMovies:\")\n",
    "movies.head()"
   ]
  },
  {
   "cell_type": "code",
   "execution_count": 4,
   "metadata": {},
   "outputs": [
    {
     "name": "stdout",
     "output_type": "stream",
     "text": [
      "\n",
      "Links:\n"
     ]
    },
    {
     "data": {
      "text/html": [
       "<div>\n",
       "<style scoped>\n",
       "    .dataframe tbody tr th:only-of-type {\n",
       "        vertical-align: middle;\n",
       "    }\n",
       "\n",
       "    .dataframe tbody tr th {\n",
       "        vertical-align: top;\n",
       "    }\n",
       "\n",
       "    .dataframe thead th {\n",
       "        text-align: right;\n",
       "    }\n",
       "</style>\n",
       "<table border=\"1\" class=\"dataframe\">\n",
       "  <thead>\n",
       "    <tr style=\"text-align: right;\">\n",
       "      <th></th>\n",
       "      <th>movieId</th>\n",
       "      <th>imdbId</th>\n",
       "      <th>tmdbId</th>\n",
       "    </tr>\n",
       "  </thead>\n",
       "  <tbody>\n",
       "    <tr>\n",
       "      <th>0</th>\n",
       "      <td>1</td>\n",
       "      <td>114709</td>\n",
       "      <td>862.0</td>\n",
       "    </tr>\n",
       "    <tr>\n",
       "      <th>1</th>\n",
       "      <td>2</td>\n",
       "      <td>113497</td>\n",
       "      <td>8844.0</td>\n",
       "    </tr>\n",
       "    <tr>\n",
       "      <th>2</th>\n",
       "      <td>3</td>\n",
       "      <td>113228</td>\n",
       "      <td>15602.0</td>\n",
       "    </tr>\n",
       "    <tr>\n",
       "      <th>3</th>\n",
       "      <td>4</td>\n",
       "      <td>114885</td>\n",
       "      <td>31357.0</td>\n",
       "    </tr>\n",
       "    <tr>\n",
       "      <th>4</th>\n",
       "      <td>5</td>\n",
       "      <td>113041</td>\n",
       "      <td>11862.0</td>\n",
       "    </tr>\n",
       "  </tbody>\n",
       "</table>\n",
       "</div>"
      ],
      "text/plain": [
       "   movieId  imdbId   tmdbId\n",
       "0        1  114709    862.0\n",
       "1        2  113497   8844.0\n",
       "2        3  113228  15602.0\n",
       "3        4  114885  31357.0\n",
       "4        5  113041  11862.0"
      ]
     },
     "execution_count": 4,
     "metadata": {},
     "output_type": "execute_result"
    }
   ],
   "source": [
    "print(\"\\nLinks:\")\n",
    "links.head()"
   ]
  },
  {
   "cell_type": "code",
   "execution_count": 5,
   "metadata": {},
   "outputs": [
    {
     "name": "stdout",
     "output_type": "stream",
     "text": [
      "Movies with TMDB IDs:\n",
      "   movieId                               title  \\\n",
      "0        1                    Toy Story (1995)   \n",
      "1        2                      Jumanji (1995)   \n",
      "2        3             Grumpier Old Men (1995)   \n",
      "3        4            Waiting to Exhale (1995)   \n",
      "4        5  Father of the Bride Part II (1995)   \n",
      "\n",
      "                                        genres  imdbId   tmdbId  \n",
      "0  Adventure|Animation|Children|Comedy|Fantasy  114709    862.0  \n",
      "1                   Adventure|Children|Fantasy  113497   8844.0  \n",
      "2                               Comedy|Romance  113228  15602.0  \n",
      "3                         Comedy|Drama|Romance  114885  31357.0  \n",
      "4                                       Comedy  113041  11862.0  \n",
      "Combined Data:\n",
      "   userId  movieId  rating            timestamp  tmdbId  \\\n",
      "0       1        2     3.5  2005-04-02 23:53:47    8844   \n",
      "1       1       29     3.5  2005-04-02 23:31:16     902   \n",
      "2       1       32     3.5  2005-04-02 23:33:39      63   \n",
      "3       1       47     3.5  2005-04-02 23:32:07     807   \n",
      "4       1       50     3.5  2005-04-02 23:29:40     629   \n",
      "\n",
      "                                               title  \n",
      "0                                     Jumanji (1995)  \n",
      "1  City of Lost Children, The (Cité des enfants p...  \n",
      "2          Twelve Monkeys (a.k.a. 12 Monkeys) (1995)  \n",
      "3                        Seven (a.k.a. Se7en) (1995)  \n",
      "4                         Usual Suspects, The (1995)  \n"
     ]
    }
   ],
   "source": [
    "# Merge movies and links on movieId\n",
    "movies_links = pd.merge(movies, links, on='movieId', how='left')\n",
    "\n",
    "# Check the merged DataFrame\n",
    "print(\"Movies with TMDB IDs:\")\n",
    "print(movies_links.head())\n",
    "\n",
    "# Merge the ratings with movies_links on movieId\n",
    "data = pd.merge(ratings, movies_links[['movieId', 'tmdbId', 'title']], on='movieId', how='left')\n",
    "\n",
    "# Optionally, drop rows with missing tmdbId values (if any)\n",
    "data = data.dropna(subset=['tmdbId'])\n",
    "\n",
    "# Convert tmdbId to integer if necessary\n",
    "data['tmdbId'] = data['tmdbId'].astype(int)\n",
    "\n",
    "# Display the combined data\n",
    "print(\"Combined Data:\")\n",
    "print(data.head())"
   ]
  },
  {
   "cell_type": "markdown",
   "metadata": {},
   "source": [
    "**DATA PREPROCESSING**"
   ]
  },
  {
   "cell_type": "code",
   "execution_count": 6,
   "metadata": {},
   "outputs": [
    {
     "name": "stdout",
     "output_type": "stream",
     "text": [
      "Movies with TMDB IDs:\n",
      "   movieId                               title  \\\n",
      "0        1                    Toy Story (1995)   \n",
      "1        2                      Jumanji (1995)   \n",
      "2        3             Grumpier Old Men (1995)   \n",
      "3        4            Waiting to Exhale (1995)   \n",
      "4        5  Father of the Bride Part II (1995)   \n",
      "\n",
      "                                        genres  imdbId   tmdbId  \n",
      "0  Adventure|Animation|Children|Comedy|Fantasy  114709    862.0  \n",
      "1                   Adventure|Children|Fantasy  113497   8844.0  \n",
      "2                               Comedy|Romance  113228  15602.0  \n",
      "3                         Comedy|Drama|Romance  114885  31357.0  \n",
      "4                                       Comedy  113041  11862.0  \n",
      "Combined Data:\n",
      "   userId  tmdbId  rating                                              title\n",
      "0       1    8844     3.5                                     Jumanji (1995)\n",
      "1       1     902     3.5  City of Lost Children, The (Cité des enfants p...\n",
      "2       1      63     3.5          Twelve Monkeys (a.k.a. 12 Monkeys) (1995)\n",
      "3       1     807     3.5                        Seven (a.k.a. Se7en) (1995)\n",
      "4       1     629     3.5                         Usual Suspects, The (1995)\n"
     ]
    }
   ],
   "source": [
    "# Merge movies and links on movieId\n",
    "movies_links = pd.merge(movies, links, on='movieId', how='left')\n",
    "\n",
    "# Check the merged DataFrame\n",
    "print(\"Movies with TMDB IDs:\")\n",
    "print(movies_links.head())\n",
    "\n",
    "# Merge the ratings with movies_links on movieId\n",
    "data = pd.merge(ratings, movies_links[['movieId', 'tmdbId', 'title']], on='movieId', how='left')\n",
    "\n",
    "# Optionally, drop rows with missing tmdbId values (if any)\n",
    "data = data.dropna(subset=['tmdbId'])\n",
    "\n",
    "# Convert tmdbId to integer if necessary\n",
    "data['tmdbId'] = data['tmdbId'].astype(int)\n",
    "\n",
    "# Drop unneeded columns: movieId and timestamp\n",
    "data = data[['userId', 'tmdbId', 'rating', 'title']]\n",
    "\n",
    "# Display the combined data\n",
    "print(\"Combined Data:\")\n",
    "print(data.head())"
   ]
  },
  {
   "cell_type": "code",
   "execution_count": 7,
   "metadata": {},
   "outputs": [
    {
     "name": "stdout",
     "output_type": "stream",
     "text": [
      "Data prepared for the recommendation model.\n"
     ]
    }
   ],
   "source": [
    "from surprise import Dataset, Reader\n",
    "\n",
    "# Define the rating scale; adjust if necessary (e.g., 0.5 to 5)\n",
    "reader = Reader(rating_scale=(data['rating'].min(), data['rating'].max()))\n",
    "\n",
    "# Create a Surprise dataset from the DataFrame\n",
    "surprise_data = Dataset.load_from_df(data[['userId', 'tmdbId', 'rating']], reader)\n",
    "\n",
    "# Verify the dataset\n",
    "print(\"Data prepared for the recommendation model.\")"
   ]
  },
  {
   "cell_type": "markdown",
   "metadata": {},
   "source": [
    "**AI Model Training**"
   ]
  },
  {
   "cell_type": "code",
   "execution_count": 8,
   "metadata": {},
   "outputs": [
    {
     "name": "stdout",
     "output_type": "stream",
     "text": [
      "RMSE: 0.7867\n",
      "Test RMSE: 0.7867056513104431\n"
     ]
    }
   ],
   "source": [
    "from surprise.model_selection import train_test_split\n",
    "from surprise import SVD, accuracy\n",
    "\n",
    "# Split data into training and test sets (80% training, 20% testing)\n",
    "trainset, testset = train_test_split(surprise_data, test_size=0.2, random_state=42)\n",
    "\n",
    "# Create and train an SVD model\n",
    "model = SVD()\n",
    "model.fit(trainset)\n",
    "\n",
    "# Evaluate the model on the test set\n",
    "predictions = model.test(testset)\n",
    "rmse = accuracy.rmse(predictions)\n",
    "print(\"Test RMSE:\", rmse)"
   ]
  },
  {
   "cell_type": "code",
   "execution_count": 9,
   "metadata": {},
   "outputs": [],
   "source": [
    "import pickle\n",
    "\n",
    "# Save the model to a file\n",
    "with open('svd_model.pkl', 'wb') as f:\n",
    "    pickle.dump(model, f)"
   ]
  },
  {
   "cell_type": "code",
   "execution_count": 10,
   "metadata": {},
   "outputs": [],
   "source": [
    "with open('svd_model.pkl', 'rb') as f:\n",
    "    loaded_model = pickle.load(f)"
   ]
  },
  {
   "cell_type": "code",
   "execution_count": 11,
   "metadata": {},
   "outputs": [
    {
     "name": "stdout",
     "output_type": "stream",
     "text": [
      "Top 10 Recommendations for User 1:\n",
      "TMDB ID: 119324.0, Title: Prime Suspect (1991), Predicted Rating: 4.49\n",
      "TMDB ID: 241620.0, Title: Louis Theroux: Law & Disorder (2008), Predicted Rating: 4.49\n",
      "TMDB ID: 13930.0, Title: For the Birds (2000), Predicted Rating: 4.46\n",
      "TMDB ID: 11362.0, Title: The Count of Monte Cristo (2002), Predicted Rating: 4.45\n",
      "TMDB ID: 16320.0, Title: Serenity (2005), Predicted Rating: 4.44\n",
      "TMDB ID: 199.0, Title: Star Trek: First Contact (1996), Predicted Rating: 4.43\n",
      "TMDB ID: 34576.0, Title: Most Dangerous Man in America: Daniel Ellsberg and the Pentagon Papers, The (2009), Predicted Rating: 4.41\n",
      "TMDB ID: 13976.0, Title: Dylan Moran: Monster (2004), Predicted Rating: 4.39\n",
      "TMDB ID: 129.0, Title: Spirited Away (Sen to Chihiro no kamikakushi) (2001), Predicted Rating: 4.39\n",
      "TMDB ID: 55192.0, Title: Tokyo Twilight (Tôkyô boshoku) (1957), Predicted Rating: 4.38\n"
     ]
    }
   ],
   "source": [
    "def get_recommendations(user_id, model, ratings_df, movies_df, n=10):\n",
    "    # Get all movie IDs from the movies DataFrame\n",
    "    all_movie_ids = movies_df['tmdbId'].unique()\n",
    "    \n",
    "    # Find movie IDs that the user has already rated\n",
    "    rated_movie_ids = ratings_df[ratings_df['userId'] == user_id]['tmdbId'].unique()\n",
    "    \n",
    "    # Movies not yet rated by the user\n",
    "    unrated_movie_ids = [mid for mid in all_movie_ids if mid not in rated_movie_ids]\n",
    "    \n",
    "    # Predict ratings for all unrated movies\n",
    "    predictions = [(mid, model.predict(user_id, mid).est) for mid in unrated_movie_ids]\n",
    "    \n",
    "    # Sort predictions by predicted rating in descending order\n",
    "    predictions.sort(key=lambda x: x[1], reverse=True)\n",
    "    \n",
    "    # Return top n recommendations\n",
    "    return predictions[:n]\n",
    "\n",
    "# Example usage: Get top 10 recommendations for user with ID 1\n",
    "top_recs = get_recommendations(user_id=1, model=model, ratings_df=data, movies_df=movies_links, n=10)\n",
    "\n",
    "print(\"Top 10 Recommendations for User 1:\")\n",
    "for tmdbId, predicted_rating in top_recs:\n",
    "    title = movies_links[movies_links['tmdbId'] == tmdbId]['title'].iloc[0]\n",
    "    print(f\"TMDB ID: {tmdbId}, Title: {title}, Predicted Rating: {predicted_rating:.2f}\")"
   ]
  }
 ],
 "metadata": {
  "kernelspec": {
   "display_name": "Python 3",
   "language": "python",
   "name": "python3"
  },
  "language_info": {
   "codemirror_mode": {
    "name": "ipython",
    "version": 3
   },
   "file_extension": ".py",
   "mimetype": "text/x-python",
   "name": "python",
   "nbconvert_exporter": "python",
   "pygments_lexer": "ipython3",
   "version": "3.12.6"
  }
 },
 "nbformat": 4,
 "nbformat_minor": 2
}
